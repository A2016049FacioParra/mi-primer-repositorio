{
  "cells": [
    {
      "cell_type": "markdown",
      "metadata": {
        "id": "view-in-github",
        "colab_type": "text"
      },
      "source": [
        "<a href=\"https://colab.research.google.com/github/A2016049FacioParra/mi-primer-repositorio/blob/main/CodigoPlanoLista.ipynb\" target=\"_parent\"><img src=\"https://colab.research.google.com/assets/colab-badge.svg\" alt=\"Open In Colab\"/></a>"
      ]
    },
    {
      "cell_type": "markdown",
      "source": [
        "!git clone https://github.com/A2016049FacioParra/mi-primer-repositorio"
      ],
      "metadata": {
        "id": "7R8Bz-Us-6as"
      }
    },
    {
      "cell_type": "code",
      "source": [
        "# Lista a escribir en un archivo.\n",
        "marcas=[\"Audi\\n\",\"Alfa Romeo\\n\",\"BMW\\n\",\"Mercedes Benz\\n\"]\n",
        "# Se abre en modo Write Extended, que permite lectura.\n",
        "with open(\"marcas.txt\",\"w+\") as f:\n",
        " # Escribe cada elemento de la lista como una línea\n",
        " f.writelines(marcas)\n",
        " # Se va al inicio del archivo.\n",
        " f.seek(0,0)\n",
        " # Lee secuencialmente el archivo, desde el inicio.\n",
        " for linea in f:\n",
        "  print(linea)"
      ],
      "metadata": {
        "id": "Hwf1joV78W-1",
        "outputId": "0561ef83-153b-4a3d-aad4-14c910984e5a",
        "colab": {
          "base_uri": "https://localhost:8080/"
        }
      },
      "execution_count": null,
      "outputs": [
        {
          "output_type": "stream",
          "name": "stdout",
          "text": [
            "Audi\n",
            "\n",
            "Alfa Romeo\n",
            "\n",
            "BMW\n",
            "\n",
            "Mercedes Benz\n",
            "\n"
          ]
        }
      ]
    },
    {
      "cell_type": "code",
      "source": [
        "# Se crea una lista vacía.\n",
        "Datos=[]\n",
        "# Se lee el archivo de forma secuencial, y se agregan los elementos\n",
        "# a la lista.\n",
        "with open(\"agenda.csv\",\"r\") as f:\n",
        " # Se lee secuencialmente el archivo de texto.\n",
        " for linea in f:\n",
        " # Se toma el texto de la línea leída, y se divide tomando como separador\n",
        " # el caracter pipe. La función retorna una lista, donde cada parte del\n",
        " # texto es un elemento.\n",
        "  lista=linea.split(\"|\")\n",
        " # El último elemento contiene \\n como salto de linea. Se remplaza por nada.\n",
        " lista[2]=lista[2].replace(\"\\n\",\"\")\n",
        " Datos.append(lista)\n",
        "\n",
        "# Se revisa el contenido de la lista\n",
        "print(\">> Contenido de la nueva lista.\\n\")\n",
        "print(Datos)\n"
      ],
      "metadata": {
        "id": "4IYGz7Y48gEK",
        "outputId": "53351610-b27d-4974-8311-31720b399d2a",
        "colab": {
          "base_uri": "https://localhost:8080/"
        }
      },
      "execution_count": null,
      "outputs": [
        {
          "output_type": "stream",
          "name": "stdout",
          "text": [
            ">> Contenido de la nueva lista.\n",
            "\n",
            "[['diana@homail.com', 'Diana', '4490909090']]\n"
          ]
        }
      ]
    },
    {
      "cell_type": "code",
      "source": [
        "# Datos iniciales. Entradas es una lista que contiene listas.\n",
        "Entradas=[\n",
        " ['correo','nombre','telefono'],\n",
        " ['juan@gmail.com','Juan','8123232323'],\n",
        " ['maria@gmail.com','Maria','5545454545'],\n",
        " ['diana@hotmail.com','Diana','4490909090']\n",
        "]\n",
        "for e in Entradas:\n",
        " print(f'{e[0]}|{e[1]}|{e[2]}')"
      ],
      "metadata": {
        "id": "2rgPZ5jP7i1b",
        "outputId": "dfee5ad9-dad1-40e6-962e-2426b4f02887",
        "colab": {
          "base_uri": "https://localhost:8080/"
        }
      },
      "execution_count": null,
      "outputs": [
        {
          "output_type": "stream",
          "name": "stdout",
          "text": [
            "correo|nombre|telefono\n",
            "juan@gmail.com|Juan|8123232323\n",
            "maria@gmail.com|Maria|5545454545\n",
            "diana@hotmail.com|Diana|4490909090\n"
          ]
        }
      ]
    },
    {
      "cell_type": "code",
      "source": [
        "import os\n",
        "\n",
        "# Contenido de la lista.\n",
        "lista = [['correo', 'nombre', 'telefono'], ['juan@gmail.com', 'Juan', '8123232323'], ['maria@gmail.com', 'Maria', '5545454545'], ['diana@hotmail.com', 'Diana', '4490909090']]\n",
        "\n",
        "# Revisa si existe el CSV, en cuyo caso, si existe el BAK lo elimina\n",
        "# y renombra el CSV como BAK\n",
        "if os.path.exists(\"agenda.csv\"):\n",
        "  if (os.path.exists(\"agenda.bak\")):\n",
        "    os.remove(\"agenda.bak\")\n",
        "  os.rename(\"agenda.csv\", \"agenda.bak\")\n"
      ],
      "metadata": {
        "id": "OEjLPtae9B0I"
      },
      "execution_count": null,
      "outputs": []
    },
    {
      "cell_type": "code",
      "source": [
        "# Se imprime el contenido de la lista, para cotejar.\n",
        "print(\">> Contenido de la lista.\\n\")\n",
        "print(Entradas)\n",
        "# Revisa si existe el CSV, en cuyo caso, si existe el BAK lo elimina\n",
        "# y renombra el CSV como BAK\n",
        "if os.path.exists(\"agenda.csv\"):\n",
        "  if (os.path.exists(\"agenda.bak\")):\n",
        "    os.remove(\"agenda.bak\")\n",
        "    os.rename(\"agenda.csv\",\"agenda.bak\")\n",
        "# Se escribe el contenido de la lista, usando with y F-String\n",
        "with open(\"agenda.csv\",\"w+\") as f:\n",
        "  for e in Entradas:\n",
        "    f.write(f\"{e[0]}|{e[1]}|{e[2]}\\n\")\n",
        "# Se revisa el contenido del archivo.\n",
        "print(\"\\n>> Contenido del archivo.\\n\")\n",
        "with open(\"agenda.csv\") as f:\n",
        " print(f.read())"
      ],
      "metadata": {
        "id": "gIayrt5j7oyi",
        "outputId": "d41bfdbb-d122-4de4-d876-5c395b132fab",
        "colab": {
          "base_uri": "https://localhost:8080/"
        }
      },
      "execution_count": null,
      "outputs": [
        {
          "output_type": "stream",
          "name": "stdout",
          "text": [
            ">> Contenido de la lista.\n",
            "\n",
            "[['correo', 'nombre', 'telefono'], ['juan@gmail.com', 'Juan', '8123232323'], ['maria@gmail.com', 'Maria', '5545454545'], ['diana@hotmail.com', 'Diana', '4490909090']]\n",
            "\n",
            ">> Contenido del archivo.\n",
            "\n",
            "correo|nombre|telefono\n",
            "juan@gmail.com|Juan|8123232323\n",
            "maria@gmail.com|Maria|5545454545\n",
            "diana@hotmail.com|Diana|4490909090\n",
            "\n"
          ]
        }
      ]
    },
    {
      "cell_type": "code",
      "source": [
        "Entradas=[\n",
        " ['correo','nombre','telefono'],\n",
        " ['juan@gmail.com','Juan','8123232323'],\n",
        " ['maria@gmail.com','Maria','5545454545'],\n",
        " ['diana@homail.com','Diana','4490909090']\n",
        "]\n",
        "with open(\"agenda.csv\",\"w+\") as f:\n",
        "  for e in Entradas:\n",
        "    f.write(f\"{e[0]}|{e[1]}|{e[2]}\\n\")\n"
      ],
      "metadata": {
        "id": "dVXsJ9aL7o20"
      },
      "execution_count": null,
      "outputs": []
    },
    {
      "cell_type": "code",
      "source": [
        "# Se crea una lista vacía.\n",
        "Datos=[]\n",
        "# Se lee el archivo de forma secuencial, y se agregan los elementos\n",
        "# a la lista.\n",
        "with open(\"agenda.csv\",\"r\") as f:\n",
        " # Se lee secuencialmente el archivo de texto.\n",
        " for linea in f:\n",
        " # Se toma el texto de la línea leída, y se divide tomando como separador\n",
        " # el caracter pipe. La función retorna una lista, donde cada parte del\n",
        " # texto es un elemento.\n",
        "  lista=linea.split(\"|\")\n",
        " # El último elemento contiene \\n como salto de linea. Se remplaza por nada.\n",
        " lista[2]=lista[2].replace(\"\\n\",\"\")\n",
        " Datos.append(lista)\n",
        "\n",
        "# Se revisa el contenido de la lista\n",
        "print(\">> Contenido de la nueva lista.\\n\")\n",
        "print(Datos)\n"
      ],
      "metadata": {
        "id": "j_YE6O1K9Jzh",
        "outputId": "2d36bd67-4ffe-4b41-e2c5-5453f27c9a15",
        "colab": {
          "base_uri": "https://localhost:8080/"
        }
      },
      "execution_count": null,
      "outputs": [
        {
          "output_type": "stream",
          "name": "stdout",
          "text": [
            ">> Contenido de la nueva lista.\n",
            "\n",
            "[['diana@hotmail.com', 'Diana', '4490909090']]\n"
          ]
        }
      ]
    },
    {
      "cell_type": "code",
      "source": [
        "Datos=[]\n",
        "with open(\"agenda.csv\",\"r+\") as f:\n",
        " for linea in f:\n",
        "  lista=linea.split(\"|\")\n",
        "  lista[2]=lista[2].replace(\"\\n\",\"\")\n",
        "  Datos.append(lista)"
      ],
      "metadata": {
        "id": "u6ubh-hI9ObQ"
      },
      "execution_count": null,
      "outputs": []
    },
    {
      "cell_type": "code",
      "source": [
        "# Se importa el módulo para trabajar con JSON.\n",
        "import json\n",
        "# Se crea un objeto de muestra, para serializar.\n",
        "Original=[\n",
        " ['correo','nombre','telefono'],\n",
        " ['juan@gmail.com','Juan','8123232323'],\n",
        " ['maria@gmail.com','Maria','5545454545'],\n",
        " ['diana@homail.com','Diana','4490909090']\n",
        "]\n",
        "print(\">> Tipo del objeto.\\n\")\n",
        "print(type(Original))\n",
        "print(\"\\n>> Contenido del objeto.\\n\")\n",
        "print(Original)\n",
        "print(\"\\n>> Serialización a JSON.\\n\")\n",
        "Original_JSON=json.dumps(Original,indent=4)\n",
        "print(Original_JSON)\n",
        "print(\"\\n>> Deserialización desde JSON.\\n\")\n",
        "Nueva_Lista=json.loads(Original_JSON)\n",
        "print(Nueva_Lista)\n",
        "print(type(Nueva_Lista))\n",
        "print(\"\\n>> Comprobando igualdad de objetos.\\n\")\n",
        "print(Original==Nueva_Lista)"
      ],
      "metadata": {
        "id": "zn4DDydC9XGX",
        "outputId": "5139c987-02f7-43af-c855-b25151918e7c",
        "colab": {
          "base_uri": "https://localhost:8080/"
        }
      },
      "execution_count": null,
      "outputs": [
        {
          "output_type": "stream",
          "name": "stdout",
          "text": [
            ">> Tipo del objeto.\n",
            "\n",
            "<class 'list'>\n",
            "\n",
            ">> Contenido del objeto.\n",
            "\n",
            "[['correo', 'nombre', 'telefono'], ['juan@gmail.com', 'Juan', '8123232323'], ['maria@gmail.com', 'Maria', '5545454545'], ['diana@homail.com', 'Diana', '4490909090']]\n",
            "\n",
            ">> Serialización a JSON.\n",
            "\n",
            "[\n",
            "    [\n",
            "        \"correo\",\n",
            "        \"nombre\",\n",
            "        \"telefono\"\n",
            "    ],\n",
            "    [\n",
            "        \"juan@gmail.com\",\n",
            "        \"Juan\",\n",
            "        \"8123232323\"\n",
            "    ],\n",
            "    [\n",
            "        \"maria@gmail.com\",\n",
            "        \"Maria\",\n",
            "        \"5545454545\"\n",
            "    ],\n",
            "    [\n",
            "        \"diana@homail.com\",\n",
            "        \"Diana\",\n",
            "        \"4490909090\"\n",
            "    ]\n",
            "]\n",
            "\n",
            ">> Deserialización desde JSON.\n",
            "\n",
            "[['correo', 'nombre', 'telefono'], ['juan@gmail.com', 'Juan', '8123232323'], ['maria@gmail.com', 'Maria', '5545454545'], ['diana@homail.com', 'Diana', '4490909090']]\n",
            "<class 'list'>\n",
            "\n",
            ">> Comprobando igualdad de objetos.\n",
            "\n",
            "True\n"
          ]
        }
      ]
    },
    {
      "cell_type": "code",
      "source": [
        "# Grabando el JSON en un archivo.\n",
        "with open(\"archivo.json\",\"w+\") as f:\n",
        " json.dump(Original,f,indent=4)\n",
        "# Leyendo datos de un archivo json\n",
        "with open(\"archivo.json\",\"r\") as f:\n",
        " recuperados=json.load(f)\n",
        "print(recuperados)\n",
        "print(\"\\n>> Comprobando igualdad de objetos.\\n\")\n",
        "print(Original==recuperados)\n"
      ],
      "metadata": {
        "id": "e2ACuD_S9d7P",
        "outputId": "3c759fa5-5fdd-416d-e87b-3a42d46d0043",
        "colab": {
          "base_uri": "https://localhost:8080/"
        }
      },
      "execution_count": null,
      "outputs": [
        {
          "output_type": "stream",
          "name": "stdout",
          "text": [
            "[['correo', 'nombre', 'telefono'], ['juan@gmail.com', 'Juan', '8123232323'], ['maria@gmail.com', 'Maria', '5545454545'], ['diana@homail.com', 'Diana', '4490909090']]\n",
            "\n",
            ">> Comprobando igualdad de objetos.\n",
            "\n",
            "True\n"
          ]
        }
      ]
    },
    {
      "cell_type": "code",
      "source": [
        "# Se importa el módulo para trabajar con JSON.\n",
        "import pickle\n",
        "# Observa cómo pickle es un formato binario.\n",
        "print(\"\\n>> Serialización a Pickle.\\n\")\n",
        "Original_pickle=pickle.dumps(Original)\n",
        "print(Original_pickle)\n",
        "print(\"\\n>> Deserialización desde Pickle.\\n\")\n",
        "Nueva_Lista=pickle.loads(Original_pickle)\n",
        "print(Nueva_Lista)\n",
        "print(type(Nueva_Lista))\n",
        "print(\"\\n>> Comprobando igualdad de objetos.\\n\")\n",
        "print(Original==Nueva_Lista)"
      ],
      "metadata": {
        "id": "ZvgzVp8m9iGI",
        "outputId": "6c33071e-87f8-403b-db42-65c58bff5d69",
        "colab": {
          "base_uri": "https://localhost:8080/"
        }
      },
      "execution_count": null,
      "outputs": [
        {
          "output_type": "stream",
          "name": "stdout",
          "text": [
            "\n",
            ">> Serialización a Pickle.\n",
            "\n",
            "b'\\x80\\x04\\x95\\xa6\\x00\\x00\\x00\\x00\\x00\\x00\\x00]\\x94(]\\x94(\\x8c\\x06correo\\x94\\x8c\\x06nombre\\x94\\x8c\\x08telefono\\x94e]\\x94(\\x8c\\x0ejuan@gmail.com\\x94\\x8c\\x04Juan\\x94\\x8c\\n8123232323\\x94e]\\x94(\\x8c\\x0fmaria@gmail.com\\x94\\x8c\\x05Maria\\x94\\x8c\\n5545454545\\x94e]\\x94(\\x8c\\x10diana@homail.com\\x94\\x8c\\x05Diana\\x94\\x8c\\n4490909090\\x94ee.'\n",
            "\n",
            ">> Deserialización desde Pickle.\n",
            "\n",
            "[['correo', 'nombre', 'telefono'], ['juan@gmail.com', 'Juan', '8123232323'], ['maria@gmail.com', 'Maria', '5545454545'], ['diana@homail.com', 'Diana', '4490909090']]\n",
            "<class 'list'>\n",
            "\n",
            ">> Comprobando igualdad de objetos.\n",
            "\n",
            "True\n"
          ]
        }
      ]
    },
    {
      "cell_type": "code",
      "source": [
        "# Grabando el pickle en un archivo.\n",
        "with open(\"archivo.pickle\",\"wb+\") as f:\n",
        " pickle.dump(Original,f)\n",
        "# Leyendo datos de un archivo pickle\n",
        "with open(\"archivo.pickle\",\"rb\") as f:\n",
        " recuperados=pickle.load(f)\n",
        "print(recuperados)\n",
        "print(\"\\n>> Comprobando igualdad de objetos.\\n\")\n",
        "print(Original==recuperados)"
      ],
      "metadata": {
        "id": "LI_T3F_H9lqW",
        "outputId": "05292f93-dfab-4088-ebe4-05bdc98139eb",
        "colab": {
          "base_uri": "https://localhost:8080/"
        }
      },
      "execution_count": null,
      "outputs": [
        {
          "output_type": "stream",
          "name": "stdout",
          "text": [
            "[['correo', 'nombre', 'telefono'], ['juan@gmail.com', 'Juan', '8123232323'], ['maria@gmail.com', 'Maria', '5545454545'], ['diana@homail.com', 'Diana', '4490909090']]\n",
            "\n",
            ">> Comprobando igualdad de objetos.\n",
            "\n",
            "True\n"
          ]
        }
      ]
    }
  ],
  "metadata": {
    "colab": {
      "provenance": [],
      "include_colab_link": true
    },
    "kernelspec": {
      "display_name": "Python 3",
      "name": "python3"
    }
  },
  "nbformat": 4,
  "nbformat_minor": 0
}